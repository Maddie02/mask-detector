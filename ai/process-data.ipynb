{
 "cells": [
  {
   "cell_type": "code",
   "execution_count": 1,
   "metadata": {},
   "outputs": [],
   "source": [
    "import os\n",
    "import numpy as np\n",
    "from keras.utils import to_categorical\n",
    "from keras.preprocessing.image import load_img\n",
    "from keras.preprocessing.image import img_to_array\n",
    "from keras.applications.mobilenet_v2 import preprocess_input\n",
    "from sklearn.preprocessing import LabelBinarizer"
   ]
  },
  {
   "cell_type": "code",
   "execution_count": 2,
   "metadata": {},
   "outputs": [
    {
     "output_type": "stream",
     "name": "stdout",
     "text": [
      "{'with mask': 0, 'without mask': 1}\n"
     ]
    }
   ],
   "source": [
    "dataset_path = 'dataset/data'\n",
    "categories = os.listdir(dataset_path)\n",
    "labels = [i for i in range(len(categories))]\n",
    "\n",
    "labels_dict = dict(zip(categories, labels))\n",
    "\n",
    "print(labels_dict)"
   ]
  },
  {
   "cell_type": "code",
   "execution_count": 3,
   "metadata": {
    "tags": []
   },
   "outputs": [],
   "source": [
    "data = []\n",
    "label_data = []\n",
    "\n",
    "IMG_SIZE = 224\n",
    "\n",
    "for category in categories:\n",
    "    category_path = os.path.join(dataset_path, category)\n",
    "    img_names = os.listdir(category_path)\n",
    "    \n",
    "    for image_name in img_names:\n",
    "        current_image_path = os.path.join(category_path, image_name)\n",
    "\n",
    "        try:\n",
    "            resized_image = load_img(current_image_path, target_size=(IMG_SIZE, IMG_SIZE, 3))\n",
    "            resized_image = img_to_array(resized_image)\n",
    "            resized_image = preprocess_input(resized_image)\n",
    "            \n",
    "            data.append(resized_image)\n",
    "            label_data.append(labels_dict[category])\n",
    "            \n",
    "        except Exception as e:\n",
    "            print('Exception while processing data - ', e)"
   ]
  },
  {
   "cell_type": "code",
   "execution_count": 4,
   "metadata": {},
   "outputs": [],
   "source": [
    "new_data = np.array(data)\n",
    "new_label_data = np.array(label_data)"
   ]
  },
  {
   "cell_type": "code",
   "execution_count": 5,
   "metadata": {
    "tags": []
   },
   "outputs": [
    {
     "output_type": "stream",
     "name": "stdout",
     "text": [
      "(9176, 224, 224, 3)\n[0 0 0 ... 1 1 1]\n"
     ]
    }
   ],
   "source": [
    "print(new_data.shape)\n",
    "print(new_label_data)"
   ]
  },
  {
   "cell_type": "code",
   "execution_count": 6,
   "metadata": {},
   "outputs": [
    {
     "output_type": "stream",
     "name": "stdout",
     "text": [
      "[[1. 0.]\n [1. 0.]\n [1. 0.]\n ...\n [0. 1.]\n [0. 1.]\n [0. 1.]]\n"
     ]
    }
   ],
   "source": [
    "lb = LabelBinarizer()\n",
    "encode_labels = lb.fit_transform(new_label_data)\n",
    "encode_labels = to_categorical(new_label_data)\n",
    "\n",
    "print(encode_labels)"
   ]
  },
  {
   "cell_type": "code",
   "execution_count": 7,
   "metadata": {},
   "outputs": [],
   "source": [
    "np.save('processed-data/data', new_data)\n",
    "np.save('processed-data/labels', encode_labels)"
   ]
  },
  {
   "cell_type": "code",
   "execution_count": null,
   "metadata": {},
   "outputs": [],
   "source": []
  }
 ],
 "metadata": {
  "kernelspec": {
   "display_name": "venv",
   "language": "python",
   "name": "venv"
  },
  "language_info": {
   "codemirror_mode": {
    "name": "ipython",
    "version": 3
   },
   "file_extension": ".py",
   "mimetype": "text/x-python",
   "name": "python",
   "nbconvert_exporter": "python",
   "pygments_lexer": "ipython3",
   "version": "3.8.5-final"
  }
 },
 "nbformat": 4,
 "nbformat_minor": 4
}