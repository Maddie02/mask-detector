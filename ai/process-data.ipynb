{
 "metadata": {
  "language_info": {
   "codemirror_mode": {
    "name": "ipython",
    "version": 3
   },
   "file_extension": ".py",
   "mimetype": "text/x-python",
   "name": "python",
   "nbconvert_exporter": "python",
   "pygments_lexer": "ipython3",
   "version": "3.8.5-final"
  },
  "orig_nbformat": 2,
  "kernelspec": {
   "name": "python3",
   "display_name": "Python 3"
  }
 },
 "nbformat": 4,
 "nbformat_minor": 2,
 "cells": [
  {
   "cell_type": "code",
   "execution_count": 1,
   "metadata": {},
   "outputs": [
    {
     "output_type": "stream",
     "name": "stdout",
     "text": [
      "{'with mask': 0, 'without mask': 1}\n"
     ]
    }
   ],
   "source": [
    "import cv2, os\n",
    "import numpy as np\n",
    "from keras.utils import to_categorical\n",
    "from sklearn.preprocessing import LabelBinarizer\n",
    "\n",
    "dataset_path = 'dataset'\n",
    "categories = os.listdir(dataset_path)\n",
    "labels = [i for i in range(len(categories))]\n",
    "\n",
    "labels_dict = dict(zip(categories, labels))\n",
    "\n",
    "print(labels_dict)"
   ]
  },
  {
   "cell_type": "code",
   "execution_count": 2,
   "metadata": {
    "tags": []
   },
   "outputs": [],
   "source": [
    "data = []\n",
    "label_data = []\n",
    "\n",
    "IMG_SIZE = 224\n",
    "\n",
    "for category in categories:\n",
    "    category_path = os.path.join(dataset_path, category)\n",
    "    img_names = os.listdir(category_path)\n",
    "    \n",
    "    for image_name in img_names:\n",
    "        current_image_path = os.path.join(category_path, image_name)\n",
    "        current_image = cv2.imread(current_image_path)\n",
    "\n",
    "        try:\n",
    "            grayscale_image = cv2.cvtColor(current_image, cv2.COLOR_BGR2GRAY)\n",
    "            resized_image = cv2.resize(grayscale_image, (IMG_SIZE, IMG_SIZE))\n",
    "            data.append(resized_image)\n",
    "            label_data.append(labels_dict[category])\n",
    "        except Exception as e:\n",
    "            print('Exception while processing data - ', e)"
   ]
  },
  {
   "cell_type": "code",
   "execution_count": 3,
   "metadata": {
    "tags": []
   },
   "outputs": [
    {
     "output_type": "stream",
     "name": "stdout",
     "text": [
      "(6570, 224, 224)\n[0 0 0 ... 1 1 1]\n"
     ]
    }
   ],
   "source": [
    "new_data = np.array(data) / 255.0\n",
    "new_label_data = np.array(label_data)\n",
    "\n",
    "print(new_data.shape)\n",
    "print(new_label_data)"
   ]
  },
  {
   "cell_type": "code",
   "execution_count": 4,
   "metadata": {},
   "outputs": [
    {
     "output_type": "stream",
     "name": "stdout",
     "text": [
      "[[1. 0.]\n [1. 0.]\n [1. 0.]\n ...\n [0. 1.]\n [0. 1.]\n [0. 1.]]\n"
     ]
    }
   ],
   "source": [
    "lb = LabelBinarizer()\n",
    "encode_labels = lb.fit_transform(new_label_data)\n",
    "encode_labels = to_categorical(new_label_data)\n",
    "\n",
    "print(encode_labels)"
   ]
  },
  {
   "cell_type": "code",
   "execution_count": 5,
   "metadata": {},
   "outputs": [],
   "source": [
    "np.save('processed-data/data', new_data)\n",
    "np.save('processed-data/labels', encode_labels)"
   ]
  },
  {
   "cell_type": "code",
   "execution_count": null,
   "metadata": {},
   "outputs": [],
   "source": []
  }
 ]
}